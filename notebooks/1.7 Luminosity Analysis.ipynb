{
 "cells": [
  {
   "cell_type": "markdown",
   "metadata": {},
   "source": [
    "# Luminosity Analysis\n",
    "\n",
    "In this notebook we analyze stellar luminosity within the SMC Wing for both resolved and unresolved stars. In order to determine the total observed stellar luminosity for our region, we completed an IRAF Apphot analysis surrounding the stellar sample (white contour). We further completed seven circular Apphot analyses for the seven most prominent under-resolved star clusters in the region (red circles). Blue points indicate the stars that were resolved by Daophot among these star clusters. The image on which these analyses were applied was a composite GALEX image, \"ngc602.fits\". The photometered regions are outlined in tetris_clusters_composite.reg. \n",
    "\n",
    "<img src=\"images/clusters_composite_stars.png\" style=\"width: 400px;\"/>"
   ]
  },
  {
   "cell_type": "markdown",
   "metadata": {},
   "source": [
    "## Import modules"
   ]
  },
  {
   "cell_type": "code",
   "execution_count": 1,
   "metadata": {},
   "outputs": [],
   "source": [
    "# Standard\n",
    "import numpy as np\n",
    "import matplotlib.pyplot as plt"
   ]
  },
  {
   "cell_type": "markdown",
   "metadata": {},
   "source": [
    "## Foreground-corrected photometry"
   ]
  },
  {
   "cell_type": "code",
   "execution_count": 2,
   "metadata": {},
   "outputs": [
    {
     "name": "stdout",
     "output_type": "stream",
     "text": [
      "There are 1104 field stars in our sample\n"
     ]
    }
   ],
   "source": [
    "# Original files\n",
    "data = np.genfromtxt('../data/foreground_corrected_photometry', dtype = None, names = True)\n",
    "clusters = np.genfromtxt('../data/underresolved_clusters', dtype = None, names = True)\n",
    "\n",
    "id_number, ra, dec, nuv_v, nuv, b_v, v = data['id'], data['ra'], \\\n",
    "data['dec'], data['nuv_v'], data['nuv'], data['b_v'], data['v'], \n",
    "\n",
    "print(\"There are {} field stars in our sample\".format(len(nuv)))"
   ]
  },
  {
   "cell_type": "markdown",
   "metadata": {},
   "source": [
    "## Individual stellar luminosity from observed NUV magnitude\n",
    "\n",
    "Individual stellar luminosities were calculated as a direct conversion from the DAOPHOT photometry analysis in AB mags to counts / sec."
   ]
  },
  {
   "cell_type": "code",
   "execution_count": 3,
   "metadata": {},
   "outputs": [
    {
     "name": "stdout",
     "output_type": "stream",
     "text": [
      "The resolved stellar population has a luminosity of 15150.0 counts/sec\n"
     ]
    }
   ],
   "source": [
    "# Convert NUVo absolute magnitudes to counts per second\n",
    "\n",
    "# Convert from galactic extinction-corrected absolute AB magnitudes to \n",
    "# uncorrected apparent AB magnitudes\n",
    "    # 18.70 for conversion from absolute to apparent\n",
    "    # 0.42 for galatic extinction\n",
    "nuv_apparent = nuv + 18.70 + 0.42\n",
    "\n",
    "# Convert from AB magnitudes to counts per second (CPS) for stellar sample\n",
    "# The value 20.08 comes from this document https://asd.gsfc.nasa.gov/archive/galex/FAQ/counts_background.html\n",
    "counts_resolved = np.sum(10**( (nuv_apparent - 20.08) / -2.5) )\n",
    "print (\"The resolved stellar population has a luminosity of {} counts/sec\"\\\n",
    "       .format(np.round(counts_resolved, 1)))"
   ]
  },
  {
   "cell_type": "markdown",
   "metadata": {},
   "source": [
    "## Entire region luminosity analysis (white contour)\n",
    "The entire region luminosity was calculated through a IRAF Apphot polygonal analysis"
   ]
  },
  {
   "cell_type": "code",
   "execution_count": 4,
   "metadata": {},
   "outputs": [
    {
     "name": "stdout",
     "output_type": "stream",
     "text": [
      "The entire region (white contour) has a luminosity of 27341.832 counts/sec over an area of 2139950.4 arcsecond**2, leading to a mean intensity of 0.01278 counts/sec/arcsecond**2\n"
     ]
    }
   ],
   "source": [
    "# Define data for the entire region\n",
    "tetris = clusters[7]\n",
    "\n",
    "area_tetris = tetris['area']\n",
    "counts_tetris = tetris['sum']\n",
    "mean_intensity_tetris = counts_tetris / area_tetris\n",
    "\n",
    "print('The entire region (white contour) has a luminosity of {} counts/sec over an \\\n",
    "area of {} arcsecond**2, leading to a mean intensity of {} counts/sec/arcsecond**2'\\\n",
    "      .format(counts_tetris, area_tetris, np.round(mean_intensity_tetris, 5)))"
   ]
  },
  {
   "cell_type": "markdown",
   "metadata": {},
   "source": [
    "### Background estimate"
   ]
  },
  {
   "cell_type": "code",
   "execution_count": 5,
   "metadata": {},
   "outputs": [
    {
     "name": "stdout",
     "output_type": "stream",
     "text": [
      "The mean intensity of the background is 0.00305 +/- 0.0005 counts/sec/arcsecond**2, as determined by analyzing regions to the east and south of our studied region\n"
     ]
    }
   ],
   "source": [
    "mean_intensity_background = 0.00305\n",
    "mean_intensity_background_error = 0.0005\n",
    "\n",
    "print('The mean intensity of the background is {} +/- {} counts/sec/arcsecond**2, as determined by \\\n",
    "analyzing regions to the east and south of our studied region'.format(mean_intensity_background, \\\n",
    "                                                                      mean_intensity_background_error))"
   ]
  },
  {
   "cell_type": "markdown",
   "metadata": {},
   "source": [
    "### Background-corrected luminosity"
   ]
  },
  {
   "cell_type": "code",
   "execution_count": 6,
   "metadata": {},
   "outputs": [
    {
     "name": "stdout",
     "output_type": "stream",
     "text": [
      "The corrected mean intensity for this region is 0.009727 counts/sec/arcsecond**2, leading to a corrected luminosity of 20814.98 counts/sec for the entire region\n"
     ]
    }
   ],
   "source": [
    "mean_intensity_tetris_corrected = mean_intensity_tetris - mean_intensity_background\n",
    "counts_tetris_corrected = mean_intensity_tetris_corrected * area_tetris\n",
    "\n",
    "print('The corrected mean intensity for this region is {} counts/sec/arcsecond**2, \\\n",
    "leading to a corrected luminosity of {} counts/sec for the entire region'\\\n",
    "      .format(np.round(mean_intensity_tetris_corrected, 6), np.round(counts_tetris_corrected, 2)))"
   ]
  },
  {
   "cell_type": "markdown",
   "metadata": {},
   "source": [
    "### Comparison to resolved stellar luminosity analysis"
   ]
  },
  {
   "cell_type": "code",
   "execution_count": 7,
   "metadata": {},
   "outputs": [
    {
     "name": "stdout",
     "output_type": "stream",
     "text": [
      "From the above analysis, we find a luminosity of 15150.02 counts/sec for resolved stars in this region and 20814.98 counts/sec for the entire region (including both resolved and unresolved stars, as well as potential background error). This analysis tells us that roughly 72.78% of the luminosity in this region can be recovered in our resolved stellar population.\n"
     ]
    }
   ],
   "source": [
    "luminosity_percentage_resolved = counts_resolved / counts_tetris_corrected * 100\n",
    "\n",
    "print('From the above analysis, we find a luminosity of {} counts/sec for resolved stars in this region \\\n",
    "and {} counts/sec for the entire region (including both resolved and unresolved stars, as well as \\\n",
    "potential background error). This analysis tells us that roughly {}% of the luminosity in this region \\\n",
    "can be recovered in our resolved stellar population.'.format(np.round(counts_resolved, 2), \\\n",
    "                                            np.round(counts_tetris_corrected, 2), \\\n",
    "                                            np.round(luminosity_percentage_resolved, 2)))"
   ]
  },
  {
   "cell_type": "markdown",
   "metadata": {},
   "source": [
    "## Unresolved cluster stellar luminosity (red circles, blue points)\n",
    "The unresolved cluster luminosity was calculated through seven IRAF Apphot circular analyses"
   ]
  },
  {
   "cell_type": "code",
   "execution_count": 8,
   "metadata": {},
   "outputs": [],
   "source": [
    "# Cluster luminosities\n",
    "cluster = clusters[0:7]\n",
    "\n",
    "area_clusters = np.sum(cluster['area'])\n",
    "counts_clusters = np.sum(cluster['sum'])\n",
    "mean_intensity_clusters = counts_clusters / area_clusters\n",
    "\n",
    "mean_intensity_clusters_corrected = mean_intensity_clusters - mean_intensity_background\n",
    "counts_clusters_corrected = mean_intensity_clusters_corrected * area_clusters\n",
    "\n",
    "luminosity_percentage_clusters = counts_clusters_corrected / counts_tetris_corrected * 100"
   ]
  },
  {
   "cell_type": "code",
   "execution_count": 9,
   "metadata": {},
   "outputs": [],
   "source": [
    "# \"Composite\" luminosities, resolved stars in clusters\n",
    "composite = np.genfromtxt('../data/composite_stars_coordinates', dtype = None, names = True)\n",
    "\n",
    "ra_composite = composite['ra']\n",
    "dec_composite = composite['dec']\n",
    "\n",
    "indices_composite = np.nonzero(np.in1d(ra, ra_composite))[0]\n",
    "indices_not_composite = [x for x in range(len(ra)) if x not in indices_composite]\n",
    "\n",
    "nuv_composite = nuv_apparent[indices_composite]\n",
    "nuv_not_composite = nuv_apparent[indices_not_composite]\n",
    "\n",
    "counts_composite = np.sum(nuv_composite)\n",
    "mean_intensity_composite = counts_composite / area_clusters\n",
    "\n",
    "counts_composite_corrected = mean_intensity_composite * area_clusters\n",
    "counts_clusters_unresolved_corrected = counts_clusters_corrected - counts_composite_corrected\n",
    "\n",
    "luminosity_percentage_clusters_unresolved = \\\n",
    "counts_clusters_unresolved_corrected / counts_tetris_corrected * 100"
   ]
  },
  {
   "cell_type": "code",
   "execution_count": 10,
   "metadata": {},
   "outputs": [
    {
     "name": "stdout",
     "output_type": "stream",
     "text": [
      "After summing the luminosity for the seven clusters analyzed with Apphot, we find the stellar luminosity in clusters to be 9460.07 counts/sec, which accounts for 45.45% of the luminosity for the entire region. However, these regions also include the few stars that were resolved among the clusters (blue points). After subtracting these stars, we get a final luminosity of 5992.05 for the unresolved stars in clusters, accounting for 28.79% of the luminosity for the entire region.\n"
     ]
    }
   ],
   "source": [
    "print('After summing the luminosity for the seven clusters analyzed with Apphot, we find the stellar \\\n",
    "luminosity in clusters to be {} counts/sec, which accounts for {}% of the luminosity for the entire \\\n",
    "region. However, these regions also include the few stars that were resolved among the clusters \\\n",
    "(blue points). After subtracting these stars, we get a final luminosity of {} \\\n",
    "for the unresolved stars in clusters, accounting for {}% of the luminosity for \\\n",
    "the entire region.'.format(np.round(counts_clusters_corrected, 2), \\\n",
    "                           np.round(luminosity_percentage_clusters, 2), \\\n",
    "                           np.round(counts_clusters_unresolved_corrected, 2), \\\n",
    "                           np.round(luminosity_percentage_clusters_unresolved, 2)))"
   ]
  },
  {
   "cell_type": "code",
   "execution_count": 11,
   "metadata": {},
   "outputs": [
    {
     "name": "stdout",
     "output_type": "stream",
     "text": [
      "Through independent analyses, we find that 72.78% of the luminosity in our region is recovered in our resolved stellar population, and 28.79% of the luminosity is recovered through the unresolved stars in clusters. This sums to a total luminosity percentage of 101.57%, which is well within our margin for error.\n"
     ]
    }
   ],
   "source": [
    "luminosity_percentage_sum = luminosity_percentage_resolved + luminosity_percentage_clusters_unresolved\n",
    "\n",
    "print('Through independent analyses, we find that {}% of the luminosity in our region \\\n",
    "is recovered in our resolved stellar population, and {}% of the luminosity is recovered \\\n",
    "through the unresolved stars in clusters. This sums to a total luminosity percentage of {}%, \\\n",
    "which is well within our margin for error.'.format(np.round(luminosity_percentage_resolved, 2), \\\n",
    "                                                   np.round(luminosity_percentage_clusters_unresolved, 2), \\\n",
    "                                                  np.round(luminosity_percentage_sum, 2)))"
   ]
  },
  {
   "cell_type": "code",
   "execution_count": null,
   "metadata": {},
   "outputs": [],
   "source": []
  },
  {
   "cell_type": "code",
   "execution_count": null,
   "metadata": {},
   "outputs": [],
   "source": []
  }
 ],
 "metadata": {
  "kernelspec": {
   "display_name": "py36",
   "language": "python",
   "name": "py36"
  },
  "language_info": {
   "codemirror_mode": {
    "name": "ipython",
    "version": 3
   },
   "file_extension": ".py",
   "mimetype": "text/x-python",
   "name": "python",
   "nbconvert_exporter": "python",
   "pygments_lexer": "ipython3",
   "version": "3.6.7"
  }
 },
 "nbformat": 4,
 "nbformat_minor": 2
}
