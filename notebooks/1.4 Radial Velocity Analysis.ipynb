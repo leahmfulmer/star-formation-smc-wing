{
 "cells": [
  {
   "cell_type": "markdown",
   "metadata": {
    "code_folding": []
   },
   "source": [
    "# Velocity Analysis\n",
    "\n",
    "In this notebook I will examine stellar and gaseous radial velocities within the SMC Wing."
   ]
  },
  {
   "cell_type": "markdown",
   "metadata": {},
   "source": [
    "## Import modules"
   ]
  },
  {
   "cell_type": "code",
   "execution_count": 13,
   "metadata": {},
   "outputs": [],
   "source": [
    "# Standard\n",
    "import numpy as np\n",
    "import matplotlib.pyplot as plt\n",
    "\n",
    "# Auxillary\n",
    "import smc\n",
    "import matplotlib.patches as patches\n",
    "import scipy.integrate as integrate"
   ]
  },
  {
   "cell_type": "markdown",
   "metadata": {},
   "source": [
    "## Stellar radial velocities from Ramachandran et. al. 2019"
   ]
  },
  {
   "cell_type": "code",
   "execution_count": 14,
   "metadata": {
    "code_folding": [],
    "nbpresent": {
     "id": "e44c956e-ec96-49c9-b247-bc6bbd093041"
    }
   },
   "outputs": [
    {
     "name": "stdout",
     "output_type": "stream",
     "text": [
      "There are 110 field stars in our sample\n"
     ]
    },
    {
     "name": "stderr",
     "output_type": "stream",
     "text": [
      "/Users/leahfulmer/anaconda/envs/py36/lib/python3.6/site-packages/ipykernel_launcher.py:4: VisibleDeprecationWarning: Reading unicode strings without specifying the encoding argument is deprecated. Set the encoding, use None for the system default.\n",
      "  after removing the cwd from sys.path.\n"
     ]
    }
   ],
   "source": [
    "# Original stellar radial velocity file\n",
    "\n",
    "# Original files\n",
    "data = np.genfromtxt('../data/foreground_corrected_photometry_and_stellar_parameters', dtype = None, names = True)\n",
    "\n",
    "id_number, ra, dec, nuv_v, nuv, b_v, v = data['id_1'], data['ra_1'], data['dec_1'], \\\n",
    "data['nuv_v'], data['nuv'], data['b_v'], data['v']\n",
    "\n",
    "spectype = data['SpectralType']\n",
    "stellar_vrad = data['vrad']\n",
    "\n",
    "print(\"There are {} field stars in our sample\".format(len(id_number)))"
   ]
  },
  {
   "cell_type": "markdown",
   "metadata": {},
   "source": [
    "## HI radial velocity measurements from HI data cube by Stanimirovic et. al. 1999"
   ]
  },
  {
   "cell_type": "code",
   "execution_count": 15,
   "metadata": {},
   "outputs": [],
   "source": [
    "# Original HI radial velocity measurements\n",
    "HI = np.genfromtxt('../data/HI_radial_velocity', dtype = None, names = True)\n",
    "\n",
    "# Define variables\n",
    "HI_velocity_ms = HI['vrad']\n",
    "HI_velocity_kms = HI_velocity_ms / 1000\n",
    "HI_temperature = HI['temperature']"
   ]
  },
  {
   "cell_type": "markdown",
   "metadata": {},
   "source": [
    "## HII radial velocity measurement from SALT"
   ]
  },
  {
   "cell_type": "code",
   "execution_count": 16,
   "metadata": {},
   "outputs": [],
   "source": [
    "# HII radial velocity average\n",
    "central = 166     # [km/s]\n",
    "error = 5     # +- [km/s]"
   ]
  },
  {
   "cell_type": "code",
   "execution_count": 42,
   "metadata": {},
   "outputs": [
    {
     "data": {
      "image/png": "[encoded data removed]",
      "text/plain": [
       "<Figure size 576x576 with 2 Axes>"
      ]
     },
     "metadata": {},
     "output_type": "display_data"
    }
   ],
   "source": [
    "# Plot parameters\n",
    "fig, ax1 = plt.subplots()\n",
    "fig.set_figwidth(8)\n",
    "fig.set_figheight(8)\n",
    "ax2 = ax1.twinx()\n",
    "\n",
    "# Define representation of HII radial velocity data\n",
    "HII_central = patches.Rectangle((central-0.46,0), 2*0.46, 71, linewidth=1, \\\n",
    "                                facecolor='mediumblue', label=r'H$\\alpha$')\n",
    "HII_error = patches.Rectangle((central-error,0), error*2, 71, linewidth=1, \\\n",
    "                              facecolor='cornflowerblue', alpha=0.5)\n",
    "\n",
    "# HII average\n",
    "ax1.add_patch(HII_error)\n",
    "ax1.add_patch(HII_central)\n",
    "\n",
    "# Stellar histogram\n",
    "test = ax1.hist(stellar_vrad, facecolor='k', edgecolor='grey', label='Stars', alpha=0.95)\n",
    "# ax1.set_title('Stellar and Gaseous Radial Velocities')\n",
    "ax1.set_xlabel('Radial Velocity [km/s]')\n",
    "ax1.set_xlim(114, 216)\n",
    "ax1.set_ylim(0, 71)\n",
    "ax1.yaxis.set_label_position(\"right\")\n",
    "ax1.yaxis.tick_right()\n",
    "\n",
    "# Make the y-axis label, ticks and tick labels match the line color.\n",
    "ax1.set_ylabel('Number of Stars', color='k')\n",
    "ax1.tick_params('y', colors='k')\n",
    "ax1.legend(bbox_to_anchor=(0.992, 1), loc=1, borderaxespad=0., prop={'size':10}, frameon=False)\n",
    "\n",
    "# HI data\n",
    "plt.plot(HI_velocity_kms, HI_temperature, linewidth=3.5, linestyle=':', \\\n",
    "         color='r', label=\"HI      \")\n",
    "ax2.set_ylabel('Temperature [K]', color='crimson')\n",
    "ax2.set_ylim(0, 31.5)\n",
    "ax2.yaxis.set_label_position(\"left\")\n",
    "ax2.yaxis.tick_left()\n",
    "ax2.tick_params('y', colors='crimson')\n",
    "ax2.legend(bbox_to_anchor=(1.0, 0.928), loc=1, borderaxespad=0., prop={'size':10}, frameon=False)\n",
    "\n",
    "plt.savefig(\"images/Radial_Velocity_Analysis.jpg\")\n",
    "plt.show()"
   ]
  },
  {
   "cell_type": "markdown",
   "metadata": {},
   "source": [
    "## HI mass analysis"
   ]
  },
  {
   "cell_type": "code",
   "execution_count": 7,
   "metadata": {
    "code_folding": []
   },
   "outputs": [
    {
     "name": "stdout",
     "output_type": "stream",
     "text": [
      "The above HI data give an integrated HI measurement of 1231.35 K*km/s. \n",
      "\n",
      "The average column density of HI in a beam scales with the integral of the temperature over a given velocity range. Our average column density is 2.216e+21 atoms / cm**2. \n",
      "\n",
      "The mass of an H atom is 1.670e-24 grams. If we account for Helium and other chemical elements we multiply the H mass by 4/3 (an approximation). Thus the average mass per atom including He and metals is about 2.227e-24 g/atom. Our average mass per area is 4.935e-03 g/cm**2. \n",
      "\n",
      "At d = 61 kpc, 1 arcsec = .3 pc and 1 arcsec**2 = (.3)**2 = 0.09 pc**2. Our measured area of 2.272e+06 arcsec**2 corresponds to 2.045e+05 pc**2 or 1.948e+42 cm**2. \n",
      "\n",
      "The total observed HI mass is therefore 9.613e+39 grams or 4.833e+06 solar masses.\n"
     ]
    }
   ],
   "source": [
    "# Compute HI mass\n",
    "integrated_HI = integrate.simps(HI_temperature, x=HI_velocity_kms) # K*km/s\n",
    "N_H = 1.8E18 * integrated_HI # atoms / cm**2\n",
    "mass_H_atom = 1.67e-24 # grams\n",
    "average_mass_ISM_atom = mass_H_atom * 4/3 # g/atom\n",
    "average_mass_ISM = average_mass_ISM_atom * N_H # g/cm**2\n",
    "\n",
    "# WHERE DOES THIS COME FROM?!\n",
    "area_arcsec_squared = 2272500 # arcsec**2\n",
    "area_parsec_squared = 2272500 * 0.09 # pc**2\n",
    "area_cm_squared = area_parsec_squared * 3.086e+18**2 # cm**2\n",
    "\n",
    "mass_ISM_grams = average_mass_ISM * area_cm_squared # grams\n",
    "Msol = 1.989e33 # solar masses\n",
    "mass_ISM_Msol = mass_ISM_grams / Msol # solar masses\n",
    "\n",
    "# Integrate over the HI gas temperature above\n",
    "print('The above HI data give an integrated HI measurement of {} K*km/s. \\n\\n\\\n",
    "The average column density of HI in a beam scales with the integral of the temperature \\\n",
    "over a given velocity range. Our average column density is {:0.3e} atoms / cm**2. \\n\\n\\\n",
    "The mass of an H atom is {:0.3e} grams. If we account for Helium and other chemical \\\n",
    "elements we multiply the H mass by 4/3 (an approximation). Thus the average mass per \\\n",
    "atom including He and metals is about {:0.3e} g/atom. Our average mass per area is {:0.3e} g/cm**2. \\n\\n\\\n",
    "At d = 61 kpc, 1 arcsec = .3 pc and 1 arcsec**2 = (.3)**2 = 0.09 pc**2. Our \\\n",
    "measured area of {:0.3e} arcsec**2 corresponds to {:0.3e} pc**2 or {:0.3e} cm**2. \\n\\n\\\n",
    "The total observed HI mass is therefore {:0.3e} grams or {:0.3e} solar masses.'\\\n",
    "# The ratio of HI mass to stellar mass is mass_ISM_Msol / stellar mass from isochrone analysis\n",
    "      .format(np.round(integrated_HI, 2), N_H, mass_H_atom, average_mass_ISM_atom, average_mass_ISM, \\\n",
    "             area_arcsec_squared, area_parsec_squared, area_cm_squared, mass_ISM_grams, mass_ISM_Msol))\n",
    "\n"
   ]
  },
  {
   "cell_type": "code",
   "execution_count": null,
   "metadata": {},
   "outputs": [],
   "source": []
  }
 ],
 "metadata": {
  "kernelspec": {
   "display_name": "py36",
   "language": "python",
   "name": "py36"
  },
  "language_info": {
   "codemirror_mode": {
    "name": "ipython",
    "version": 3
   },
   "file_extension": ".py",
   "mimetype": "text/x-python",
   "name": "python",
   "nbconvert_exporter": "python",
   "pygments_lexer": "ipython3",
   "version": "3.6.7"
  }
 },
 "nbformat": 4,
 "nbformat_minor": 2
}
