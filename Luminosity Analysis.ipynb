{
 "cells": [
  {
   "cell_type": "markdown",
   "metadata": {},
   "source": [
    "# Luminosity Analysis\n",
    "\n",
    "In this notebook I will complete an analysis of stellar luminosity within the SMC Wing."
   ]
  },
  {
   "cell_type": "code",
   "execution_count": 1,
   "metadata": {
    "collapsed": true
   },
   "outputs": [],
   "source": [
    "# Standard imports\n",
    "\n",
    "import numpy as np\n",
    "import matplotlib.pyplot as plt\n",
    "import matplotlib.patches as patches\n",
    "from pylab import *\n",
    "import scipy as scipy\n",
    "from scipy import stats\n",
    "import scipy.integrate as integrate\n",
    "import itertools\n",
    "from astropy.io import fits"
   ]
  },
  {
   "cell_type": "markdown",
   "metadata": {},
   "source": [
    "## Field star photometry without applying any color / (NUV)o thresholds to data\n",
    "\n",
    "The following sample includes 1104 stars."
   ]
  },
  {
   "cell_type": "code",
   "execution_count": 2,
   "metadata": {
    "collapsed": true
   },
   "outputs": [],
   "source": [
    "# Original files\n",
    "SMC_daofind_braun_id_coords_color_nuv = np.genfromtxt('SMC_daofind_braun_id_coords_color_nuv')\n",
    "\n",
    "# Uncorrected variables\n",
    "id_number_nocorr = SMC_daofind_braun_id_coords_color_nuv[:,0]\n",
    "ra_nocorr = SMC_daofind_braun_id_coords_color_nuv[:,1]\n",
    "dec_nocorr = SMC_daofind_braun_id_coords_color_nuv[:,2]\n",
    "nuv_v_nocorr = SMC_daofind_braun_id_coords_color_nuv[:,3]\n",
    "nuv_nocorr = SMC_daofind_braun_id_coords_color_nuv[:,4]\n",
    "\n",
    "# Corrected variables (including absolute mag correction and extinction correction)\n",
    "id_number_corr = id_number_nocorr\n",
    "ra_corr = ra_nocorr\n",
    "dec_corr = dec_nocorr\n",
    "nuv_v_corr = nuv_v_nocorr - 0.26\n",
    "nuv_corr = nuv_nocorr - 18.7 - 0.42\n",
    "v_corr = nuv_corr - nuv_v_corr # The v extinction correction of - 0.16 is \"built in\" to the defintion of the nuv_v color.\n",
    "\n",
    "# Brightness cut\n",
    "id_number_cut = id_number_corr[nuv_corr <= 0.45]\n",
    "ra_cut = ra_corr[nuv_corr <= 0.45]\n",
    "dec_cut = dec_corr[nuv_corr <= 0.45]\n",
    "nuv_v_cut = nuv_v_corr[nuv_corr <= 0.45]\n",
    "nuv_cut = nuv_corr[nuv_corr <= 0.45]\n",
    "v_cut = v_corr[nuv_corr <= 0.45]\n",
    "\n",
    "# Correction between GALEX catalog vs. daophot\n",
    "id_number = id_number_cut\n",
    "ra = ra_cut\n",
    "dec = dec_cut\n",
    "nuv_v = nuv_v_cut + 0.6\n",
    "nuv = nuv_cut + 0.6\n",
    "v = v_cut"
   ]
  },
  {
   "cell_type": "markdown",
   "metadata": {},
   "source": [
    "## Individual stellar luminosity from observed NUV magnitude\n",
    "\n",
    "Individual stellar luminosities were calculated as a direct conversion from the DAOPHOT photometry analysis in AB mags to counts / sec."
   ]
  },
  {
   "cell_type": "code",
   "execution_count": 3,
   "metadata": {},
   "outputs": [
    {
     "name": "stdout",
     "output_type": "stream",
     "text": [
      "Total [cts/s] for 1104 stars: 11958.34\n"
     ]
    }
   ],
   "source": [
    "# Convert NUVo absolute magnitudes to counts per second\n",
    "\n",
    "# Convert from extinction- and catalog-corrected absolute magnitudes to uncorrection AB magnitudes\n",
    "    # 18.70 for conversion from absolute to apparent, 0.42 for extinction.\n",
    "    # We leave in the 0.6 for catalog correction\n",
    "nuv_abmag = nuv + 18.70 + 0.42\n",
    "\n",
    "# Convert from AB magnitudes to counts per second (CPS) for 1104 stars\n",
    "total_counts_stars = np.sum(10**((nuv_abmag-20.08)/-2.5))\n",
    "print (\"Total [cts/s] for 1104 stars:\", np.round(total_counts_stars, 2))"
   ]
  },
  {
   "cell_type": "markdown",
   "metadata": {},
   "source": [
    "## Region stellar luminosity from IRAF Apphot analysis\n",
    "\n",
    "In order to determine the total observed stellar luminosity for our region, we completed a polygonal IRAF Apphot analysis surrounding the stellar sample, as shown in the image below."
   ]
  },
  {
   "cell_type": "markdown",
   "metadata": {},
   "source": [
    "<tr>\n",
    "    <td> <img src=\"Jul15_1104_clusters_composite_stars.png\" style=\"width: 400px;\"/> </td>\n",
    "    <td> Used composite GALEX image ngc602.fits and regions with <br >\n",
    "        Jul15_tetris_clusters_composite.reg for photometry.<br ><br >\n",
    "        <b>Region Parameters [ Tetris Region ]:</b> <br >\n",
    "        <b>area_study</b> = 2139950 arcsec<sup>-2</sup><br >\n",
    "        <b>sum_study</b> = 27342 cts/s<br >\n",
    "        <b>mean_intensity_study [I_study]</b> = 0.01278 cts/s/arcsec<sup>2</sup><br ><br >\n",
    "        <b>Background Estimate:</b> <br >\n",
    "        Based on regions to the east and south of our zone.<br >\n",
    "        <b>mean_intensity_bkgrnd [I_bkgrnd]</b> = 0.00305 cts/sec/arcsec<sup>2</sup><br >\n",
    "        +/- 0.0005 cts/sec/arcsec<sup>2</sup><br ><br >\n",
    "        <b>Background-Corrected Luminosity:</b> <br >\n",
    "        <b>[I_corr = I_study - I_bkgrnd]</b> = 0.00973 cts/s/arcsec<sup>2</sup><br >\n",
    "        <b>corrected_count_rate </b> = [I_corr] \\* area_study = 20822 cts/s <br >\n",
    "        +/- 15% statistical error --> real uncertainty probably ~25%<br ><br >\n",
    "        <b>Comparison to Individual Stellar Luminosity:</b> <br >\n",
    "        <b>Total [cts/s] for 1104 stars:</b> 11,958<br >\n",
    "        <b>Corrected [cts/s] for Studied Region:</b> 20,822<br >\n",
    "        <b>Unaccounted [cts/s] in Indiv. Stellar Lum.:</b> 8,864 (42%)\n",
    "   </td>\n",
    "</tr>"
   ]
  },
  {
   "cell_type": "markdown",
   "metadata": {},
   "source": [
    "## Cluster stellar luminosity from IRAF Apphot analysis"
   ]
  },
  {
   "cell_type": "markdown",
   "metadata": {},
   "source": [
    "In order to get an accurate reading about the luminosity in clusters, we need to consider both the stars that were included in the 1104-star sample calculated above (shown in blue above) and the cluster regions (shown in red above). Below, we outline the process of calculating the photometry of these two populations."
   ]
  },
  {
   "cell_type": "markdown",
   "metadata": {},
   "source": [
    "## Luminsoity in individual stars (shown in blue above)"
   ]
  },
  {
   "cell_type": "code",
   "execution_count": 4,
   "metadata": {
    "collapsed": true
   },
   "outputs": [],
   "source": [
    "composite_stars_coords = np.genfromtxt('Jul15_composite_stars_coords')\n",
    "composite_stars_ra = composite_stars_coords[:,0]\n",
    "composite_stars_dec = composite_stars_coords[:,1]\n",
    "\n",
    "# Match stars by their RA values to the 1104-star sample\n",
    "indices_in_clusters = np.nonzero(np.in1d(ra,composite_stars_ra))[0]\n",
    "\n",
    "# Convert from AB magnitudes to counts per second (CPS) for stars in clusters (194)\n",
    "nuv_in_clusters = nuv[indices_in_clusters]\n",
    "nuv_abmag_in_clusters = nuv_in_clusters + 18.70 + 0.42\n",
    "counts_clusters_indiv = np.sum(10**((nuv_abmag_in_clusters-20.08)/-2.5))\n",
    "       \n",
    "# Calculate luminosity in individual stars that were NOT included in the clusters (910)\n",
    "indices_not_in_clusters = [x for x in range(len(nuv)) if x not in indices_in_clusters]\n",
    "nuv_not_in_clusters = nuv[indices_not_in_clusters]\n",
    "\n",
    "nuv_abmag_not_in_clusters = nuv_not_in_clusters + 18.70 + 0.42\n",
    "total_counts_stars_not_in_clusters = np.sum(10**((nuv_abmag_not_in_clusters-20.08)/-2.5))\n",
    "# Note: When working with individual stellar luminosity (as done here) we never need to correct with a\n",
    "    # background subtraction. Because the photometry relies on assigned PSFs, we inevitably underestimate\n",
    "    # the photometered luminosity and include minimal background light."
   ]
  },
  {
   "cell_type": "markdown",
   "metadata": {},
   "source": [
    "## Luminosity in cluster regions (shown in red above)\n",
    "The file Jul15_cluster_analysis_7 contains the following columns: <br>\n",
    "**RegNumber** **CenterRA** **CenterDec** **Sum**[cts/sec] **Error**[cts/sec] **Area**[arcsec<sup>2</sup>] **Surf_Bri**[sum/arcsec<sup>2</sup>] **Surf_Error**[sum/arcsec<sup>2</sup>]"
   ]
  },
  {
   "cell_type": "code",
   "execution_count": 5,
   "metadata": {
    "collapsed": true
   },
   "outputs": [],
   "source": [
    "cluster_analysis = np.genfromtxt('Jul15_cluster_analysis_7')\n",
    "\n",
    "# The multiplication factor of 0.575 is analogous to the catalog correction in NUVo magnitudes.\n",
    "counts_clusters = cluster_analysis[:,3] * 0.575 # cts/s\n",
    "area_clusters = cluster_analysis[:,5] # arcsec**2\n",
    "\n",
    "total_counts_clusters = np.sum(counts_clusters) # cts/s\n",
    "total_area_clusters = np.sum(area_clusters) # arcsec**2\n",
    "\n",
    "mean_intensity_clusters = counts_clusters/area_clusters # cts/s/arcsec**2\n",
    "\n",
    "# I_corr = I_cluster - I_bkgrd \n",
    "# ...where I_bkgrd = 0.00305 cts/s/arcsec**2, as defined above.\n",
    "mean_intensity_clusters_bkgrndcorr = mean_intensity_clusters - 0.00305\n",
    "\n",
    "count_rate_clusters_bkgrndcorr = mean_intensity_clusters_bkgrndcorr * area_clusters\n",
    "counts_clusters_region = np.sum(count_rate_clusters_bkgrndcorr)\n",
    "\n",
    "total_counts_tetris = 20822"
   ]
  },
  {
   "cell_type": "markdown",
   "metadata": {},
   "source": [
    "## Comparing cluster luminosity to that of the entire studied region"
   ]
  },
  {
   "cell_type": "code",
   "execution_count": 7,
   "metadata": {},
   "outputs": [
    {
     "name": "stdout",
     "output_type": "stream",
     "text": [
      "Individual-to-individual analysis:\n",
      "Total [cts/s] for individual stars in clusters: 2454.68\n",
      "Percentage of luminosity in clusters for individual stellar luminosity: 20.53\n",
      " \n",
      "Region-to-region analysis:\n",
      "Total [cts/s] for cluster regions: 5094.29\n",
      "Percentage of luminosity in clusters for region stellar luminosity: 24.47\n"
     ]
    }
   ],
   "source": [
    "# Individual stellar luminosity\n",
    "print (\"Individual-to-individual analysis:\")\n",
    "print (\"Total [cts/s] for individual stars in clusters:\", np.round(counts_clusters_indiv, 2))\n",
    "print (\"Percentage of luminosity in clusters for individual stellar luminosity:\", np.round(counts_clusters_indiv/total_counts_stars, 4) * 100)\n",
    "print (\" \")\n",
    "\n",
    "# Region stellar luminosity\n",
    "print (\"Region-to-region analysis:\")\n",
    "print (\"Total [cts/s] for cluster regions:\", np.round(counts_clusters_region, 2))\n",
    "print (\"Percentage of luminosity in clusters for region stellar luminosity:\", np.round(counts_clusters_region/total_counts_tetris, 4) * 100)\n"
   ]
  },
  {
   "cell_type": "markdown",
   "metadata": {},
   "source": [
    "## Analysis\n",
    "\n",
    "It is logical that we see a lower percentage of luminosity in clusters when considering individual stellar luminosity versus region stellar luminosity. Because clusters experience significant blending, the IRAF photometry could not resolve many of the individual stars within clusters. This results in a lower-bound percentage of luminosity in clusters based on the individual stellar luminosity analysis. The region analysis, which does not face deblending challenges, thus presents a more accurate analysis of the percentage of luminosity in clusters."
   ]
  },
  {
   "cell_type": "code",
   "execution_count": null,
   "metadata": {
    "collapsed": true
   },
   "outputs": [],
   "source": []
  }
 ],
 "metadata": {
  "kernelspec": {
   "display_name": "py36",
   "language": "python",
   "name": "py36"
  },
  "language_info": {
   "codemirror_mode": {
    "name": "ipython",
    "version": 3
   },
   "file_extension": ".py",
   "mimetype": "text/x-python",
   "name": "python",
   "nbconvert_exporter": "python",
   "pygments_lexer": "ipython3",
   "version": "3.6.4"
  }
 },
 "nbformat": 4,
 "nbformat_minor": 2
}
